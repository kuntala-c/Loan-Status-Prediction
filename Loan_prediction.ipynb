{
 "cells": [
  {
   "cell_type": "markdown",
   "id": "fb6f7cf6-87b5-4d68-800d-b01894c03e41",
   "metadata": {},
   "source": [
    "# Predict Loan Eligibility for Dream Housing Finance company"
   ]
  },
  {
   "cell_type": "markdown",
   "id": "70855cde-c6ea-49d8-bc4a-670f740bc315",
   "metadata": {},
   "source": [
    "ABC Housing Finance company deals in all kinds of home loans. They have presence across all urban, semi urban and rural areas. Customer first applies for home loan and after that company validates the customer eligibility for loan.\n",
    "\n",
    "Company wants to automate the loan eligibility process (real time) based on customer detail provided while filling online application form. These details are Gender, Marital Status, Education, Number of Dependents, Income, Loan Amount, Credit History and others. To automate this process, they have provided a dataset to identify the customers segments that are eligible for loan amount so that they can specifically target these customers. "
   ]
  },
  {
   "cell_type": "markdown",
   "id": "3ca23af6-b4dd-4f20-a371-e7cd82fdffc0",
   "metadata": {},
   "source": [
    "Data Dictionary\n",
    "Train file: CSV containing the customers for whom loan eligibility is known as 'Loan_Status'\n",
    "\n",
    "* Variable\tDescription\n",
    "* Loan_ID\tUnique Loan ID\n",
    "* Gender\tMale/ Female\n",
    "* Married\tApplicant married (Y/N)\n",
    "* Dependents\tNumber of dependents\n",
    "* Education\tApplicant Education (Graduate/ Under Graduate)\n",
    "* Self_Employed\tSelf employed (Y/N)\n",
    "* ApplicantIncome\tApplicant income\n",
    "* CoapplicantIncome\tCoapplicant income\n",
    "* LoanAmount\tLoan amount in thousands\n",
    "* Loan_Amount_Term\tTerm of loan in months\n",
    "* Credit_History\tcredit history meets guidelines\n",
    "* Property_Area\tUrban/ Semi Urban/ Rural\n",
    "* Loan_Status\t(Target) Loan approved (Y/N)"
   ]
  },
  {
   "cell_type": "markdown",
   "id": "042ec916-956d-45f3-9dca-481e2825c93a",
   "metadata": {},
   "source": [
    "Test file: CSV containing the customer information for whom loan eligibility is to be predicted\n",
    "\n",
    "* Variable\tDescription\n",
    "* Loan_ID\tUnique Loan ID\n",
    "* Gender\tMale/ Female\n",
    "* Married\tApplicant married (Y/N)\n",
    "* Dependents\tNumber of dependents\n",
    "* Education\tApplicant Education (Graduate/ Under Graduate)\n",
    "* Self_Employed\tSelf employed (Y/N)\n",
    "* ApplicantIncome\tApplicant income\n",
    "* CoapplicantIncome\tCoapplicant income\n",
    "* LoanAmount\tLoan amount in thousands\n",
    "* Loan_Amount_Term\tTerm of loan in months\n",
    "* Credit_History\tcredit history meets guidelines\n",
    "* Property_Area\tUrban/ Semi Urban/ Rural"
   ]
  },
  {
   "cell_type": "code",
   "execution_count": 1,
   "id": "2e5420c7-adda-4419-bd0f-c309971a9f90",
   "metadata": {
    "ExecuteTime": {
     "end_time": "2021-12-27T22:54:27.367127Z",
     "start_time": "2021-12-27T22:54:25.097908Z"
    }
   },
   "outputs": [],
   "source": [
    "import pandas as pd\n",
    "import numpy as np                   #for mathematical calculations\n",
    "import seaborn as sns\n",
    "import matplotlib.pyplot as plt             # for plotting graphs\n",
    "%matplotlib inline\n",
    "import warnings\n",
    "warnings.filterwarnings(\"ignore\")    # to ignore any warnings"
   ]
  },
  {
   "cell_type": "code",
   "execution_count": 2,
   "id": "93b2fa10-4ed8-428c-8313-8badc54f24ba",
   "metadata": {
    "ExecuteTime": {
     "end_time": "2021-12-27T22:54:27.409410Z",
     "start_time": "2021-12-27T22:54:27.368748Z"
    }
   },
   "outputs": [],
   "source": [
    "train = pd.read_csv(\"train.csv\")        #Reading the dataset in a dataframe using Panda\n",
    "test = pd.read_csv(\"test.csv\")"
   ]
  },
  {
   "cell_type": "code",
   "execution_count": 3,
   "id": "c59ef0b9-7a22-4732-8340-6e58678cc78a",
   "metadata": {
    "ExecuteTime": {
     "end_time": "2021-12-27T22:54:27.433076Z",
     "start_time": "2021-12-27T22:54:27.411426Z"
    }
   },
   "outputs": [
    {
     "data": {
      "text/html": [
       "<div>\n",
       "<style scoped>\n",
       "    .dataframe tbody tr th:only-of-type {\n",
       "        vertical-align: middle;\n",
       "    }\n",
       "\n",
       "    .dataframe tbody tr th {\n",
       "        vertical-align: top;\n",
       "    }\n",
       "\n",
       "    .dataframe thead th {\n",
       "        text-align: right;\n",
       "    }\n",
       "</style>\n",
       "<table border=\"1\" class=\"dataframe\">\n",
       "  <thead>\n",
       "    <tr style=\"text-align: right;\">\n",
       "      <th></th>\n",
       "      <th>Loan_ID</th>\n",
       "      <th>Gender</th>\n",
       "      <th>Married</th>\n",
       "      <th>Dependents</th>\n",
       "      <th>Education</th>\n",
       "      <th>Self_Employed</th>\n",
       "      <th>ApplicantIncome</th>\n",
       "      <th>CoapplicantIncome</th>\n",
       "      <th>LoanAmount</th>\n",
       "      <th>Loan_Amount_Term</th>\n",
       "      <th>Credit_History</th>\n",
       "      <th>Property_Area</th>\n",
       "      <th>Loan_Status</th>\n",
       "    </tr>\n",
       "  </thead>\n",
       "  <tbody>\n",
       "    <tr>\n",
       "      <th>0</th>\n",
       "      <td>LP001002</td>\n",
       "      <td>Male</td>\n",
       "      <td>No</td>\n",
       "      <td>0</td>\n",
       "      <td>Graduate</td>\n",
       "      <td>No</td>\n",
       "      <td>5849</td>\n",
       "      <td>0.0</td>\n",
       "      <td>NaN</td>\n",
       "      <td>360.0</td>\n",
       "      <td>1.0</td>\n",
       "      <td>Urban</td>\n",
       "      <td>Y</td>\n",
       "    </tr>\n",
       "    <tr>\n",
       "      <th>1</th>\n",
       "      <td>LP001003</td>\n",
       "      <td>Male</td>\n",
       "      <td>Yes</td>\n",
       "      <td>1</td>\n",
       "      <td>Graduate</td>\n",
       "      <td>No</td>\n",
       "      <td>4583</td>\n",
       "      <td>1508.0</td>\n",
       "      <td>128.0</td>\n",
       "      <td>360.0</td>\n",
       "      <td>1.0</td>\n",
       "      <td>Rural</td>\n",
       "      <td>N</td>\n",
       "    </tr>\n",
       "    <tr>\n",
       "      <th>2</th>\n",
       "      <td>LP001005</td>\n",
       "      <td>Male</td>\n",
       "      <td>Yes</td>\n",
       "      <td>0</td>\n",
       "      <td>Graduate</td>\n",
       "      <td>Yes</td>\n",
       "      <td>3000</td>\n",
       "      <td>0.0</td>\n",
       "      <td>66.0</td>\n",
       "      <td>360.0</td>\n",
       "      <td>1.0</td>\n",
       "      <td>Urban</td>\n",
       "      <td>Y</td>\n",
       "    </tr>\n",
       "    <tr>\n",
       "      <th>3</th>\n",
       "      <td>LP001006</td>\n",
       "      <td>Male</td>\n",
       "      <td>Yes</td>\n",
       "      <td>0</td>\n",
       "      <td>Not Graduate</td>\n",
       "      <td>No</td>\n",
       "      <td>2583</td>\n",
       "      <td>2358.0</td>\n",
       "      <td>120.0</td>\n",
       "      <td>360.0</td>\n",
       "      <td>1.0</td>\n",
       "      <td>Urban</td>\n",
       "      <td>Y</td>\n",
       "    </tr>\n",
       "    <tr>\n",
       "      <th>4</th>\n",
       "      <td>LP001008</td>\n",
       "      <td>Male</td>\n",
       "      <td>No</td>\n",
       "      <td>0</td>\n",
       "      <td>Graduate</td>\n",
       "      <td>No</td>\n",
       "      <td>6000</td>\n",
       "      <td>0.0</td>\n",
       "      <td>141.0</td>\n",
       "      <td>360.0</td>\n",
       "      <td>1.0</td>\n",
       "      <td>Urban</td>\n",
       "      <td>Y</td>\n",
       "    </tr>\n",
       "  </tbody>\n",
       "</table>\n",
       "</div>"
      ],
      "text/plain": [
       "    Loan_ID Gender Married Dependents     Education Self_Employed  \\\n",
       "0  LP001002   Male      No          0      Graduate            No   \n",
       "1  LP001003   Male     Yes          1      Graduate            No   \n",
       "2  LP001005   Male     Yes          0      Graduate           Yes   \n",
       "3  LP001006   Male     Yes          0  Not Graduate            No   \n",
       "4  LP001008   Male      No          0      Graduate            No   \n",
       "\n",
       "   ApplicantIncome  CoapplicantIncome  LoanAmount  Loan_Amount_Term  \\\n",
       "0             5849                0.0         NaN             360.0   \n",
       "1             4583             1508.0       128.0             360.0   \n",
       "2             3000                0.0        66.0             360.0   \n",
       "3             2583             2358.0       120.0             360.0   \n",
       "4             6000                0.0       141.0             360.0   \n",
       "\n",
       "   Credit_History Property_Area Loan_Status  \n",
       "0             1.0         Urban           Y  \n",
       "1             1.0         Rural           N  \n",
       "2             1.0         Urban           Y  \n",
       "3             1.0         Urban           Y  \n",
       "4             1.0         Urban           Y  "
      ]
     },
     "execution_count": 3,
     "metadata": {},
     "output_type": "execute_result"
    }
   ],
   "source": [
    "train.head()"
   ]
  },
  {
   "cell_type": "code",
   "execution_count": 4,
   "id": "6c6986fc-76eb-4ab3-a3f3-014efae03049",
   "metadata": {
    "ExecuteTime": {
     "end_time": "2021-12-27T22:54:27.454817Z",
     "start_time": "2021-12-27T22:54:27.436167Z"
    }
   },
   "outputs": [
    {
     "data": {
      "text/html": [
       "<div>\n",
       "<style scoped>\n",
       "    .dataframe tbody tr th:only-of-type {\n",
       "        vertical-align: middle;\n",
       "    }\n",
       "\n",
       "    .dataframe tbody tr th {\n",
       "        vertical-align: top;\n",
       "    }\n",
       "\n",
       "    .dataframe thead th {\n",
       "        text-align: right;\n",
       "    }\n",
       "</style>\n",
       "<table border=\"1\" class=\"dataframe\">\n",
       "  <thead>\n",
       "    <tr style=\"text-align: right;\">\n",
       "      <th></th>\n",
       "      <th>Loan_ID</th>\n",
       "      <th>Gender</th>\n",
       "      <th>Married</th>\n",
       "      <th>Dependents</th>\n",
       "      <th>Education</th>\n",
       "      <th>Self_Employed</th>\n",
       "      <th>ApplicantIncome</th>\n",
       "      <th>CoapplicantIncome</th>\n",
       "      <th>LoanAmount</th>\n",
       "      <th>Loan_Amount_Term</th>\n",
       "      <th>Credit_History</th>\n",
       "      <th>Property_Area</th>\n",
       "    </tr>\n",
       "  </thead>\n",
       "  <tbody>\n",
       "    <tr>\n",
       "      <th>0</th>\n",
       "      <td>LP001015</td>\n",
       "      <td>Male</td>\n",
       "      <td>Yes</td>\n",
       "      <td>0</td>\n",
       "      <td>Graduate</td>\n",
       "      <td>No</td>\n",
       "      <td>5720</td>\n",
       "      <td>0</td>\n",
       "      <td>110.0</td>\n",
       "      <td>360.0</td>\n",
       "      <td>1.0</td>\n",
       "      <td>Urban</td>\n",
       "    </tr>\n",
       "    <tr>\n",
       "      <th>1</th>\n",
       "      <td>LP001022</td>\n",
       "      <td>Male</td>\n",
       "      <td>Yes</td>\n",
       "      <td>1</td>\n",
       "      <td>Graduate</td>\n",
       "      <td>No</td>\n",
       "      <td>3076</td>\n",
       "      <td>1500</td>\n",
       "      <td>126.0</td>\n",
       "      <td>360.0</td>\n",
       "      <td>1.0</td>\n",
       "      <td>Urban</td>\n",
       "    </tr>\n",
       "    <tr>\n",
       "      <th>2</th>\n",
       "      <td>LP001031</td>\n",
       "      <td>Male</td>\n",
       "      <td>Yes</td>\n",
       "      <td>2</td>\n",
       "      <td>Graduate</td>\n",
       "      <td>No</td>\n",
       "      <td>5000</td>\n",
       "      <td>1800</td>\n",
       "      <td>208.0</td>\n",
       "      <td>360.0</td>\n",
       "      <td>1.0</td>\n",
       "      <td>Urban</td>\n",
       "    </tr>\n",
       "    <tr>\n",
       "      <th>3</th>\n",
       "      <td>LP001035</td>\n",
       "      <td>Male</td>\n",
       "      <td>Yes</td>\n",
       "      <td>2</td>\n",
       "      <td>Graduate</td>\n",
       "      <td>No</td>\n",
       "      <td>2340</td>\n",
       "      <td>2546</td>\n",
       "      <td>100.0</td>\n",
       "      <td>360.0</td>\n",
       "      <td>NaN</td>\n",
       "      <td>Urban</td>\n",
       "    </tr>\n",
       "    <tr>\n",
       "      <th>4</th>\n",
       "      <td>LP001051</td>\n",
       "      <td>Male</td>\n",
       "      <td>No</td>\n",
       "      <td>0</td>\n",
       "      <td>Not Graduate</td>\n",
       "      <td>No</td>\n",
       "      <td>3276</td>\n",
       "      <td>0</td>\n",
       "      <td>78.0</td>\n",
       "      <td>360.0</td>\n",
       "      <td>1.0</td>\n",
       "      <td>Urban</td>\n",
       "    </tr>\n",
       "  </tbody>\n",
       "</table>\n",
       "</div>"
      ],
      "text/plain": [
       "    Loan_ID Gender Married Dependents     Education Self_Employed  \\\n",
       "0  LP001015   Male     Yes          0      Graduate            No   \n",
       "1  LP001022   Male     Yes          1      Graduate            No   \n",
       "2  LP001031   Male     Yes          2      Graduate            No   \n",
       "3  LP001035   Male     Yes          2      Graduate            No   \n",
       "4  LP001051   Male      No          0  Not Graduate            No   \n",
       "\n",
       "   ApplicantIncome  CoapplicantIncome  LoanAmount  Loan_Amount_Term  \\\n",
       "0             5720                  0       110.0             360.0   \n",
       "1             3076               1500       126.0             360.0   \n",
       "2             5000               1800       208.0             360.0   \n",
       "3             2340               2546       100.0             360.0   \n",
       "4             3276                  0        78.0             360.0   \n",
       "\n",
       "   Credit_History Property_Area  \n",
       "0             1.0         Urban  \n",
       "1             1.0         Urban  \n",
       "2             1.0         Urban  \n",
       "3             NaN         Urban  \n",
       "4             1.0         Urban  "
      ]
     },
     "execution_count": 4,
     "metadata": {},
     "output_type": "execute_result"
    }
   ],
   "source": [
    "test.head()"
   ]
  },
  {
   "cell_type": "code",
   "execution_count": 5,
   "id": "1396194c-c93c-42ae-bc4b-aebd792e2028",
   "metadata": {
    "ExecuteTime": {
     "end_time": "2021-12-27T22:54:27.462051Z",
     "start_time": "2021-12-27T22:54:27.458282Z"
    }
   },
   "outputs": [],
   "source": [
    "train_original=train.copy()\n",
    "test_original=test.copy()"
   ]
  },
  {
   "cell_type": "code",
   "execution_count": 6,
   "id": "d6583cb1-1b0a-4e57-9ca6-4802c7a816d9",
   "metadata": {
    "ExecuteTime": {
     "end_time": "2021-12-27T22:54:27.473164Z",
     "start_time": "2021-12-27T22:54:27.464830Z"
    }
   },
   "outputs": [
    {
     "data": {
      "text/plain": [
       "Loan_ID               object\n",
       "Gender                object\n",
       "Married               object\n",
       "Dependents            object\n",
       "Education             object\n",
       "Self_Employed         object\n",
       "ApplicantIncome        int64\n",
       "CoapplicantIncome    float64\n",
       "LoanAmount           float64\n",
       "Loan_Amount_Term     float64\n",
       "Credit_History       float64\n",
       "Property_Area         object\n",
       "Loan_Status           object\n",
       "dtype: object"
      ]
     },
     "execution_count": 6,
     "metadata": {},
     "output_type": "execute_result"
    }
   ],
   "source": [
    "train.dtypes"
   ]
  },
  {
   "cell_type": "markdown",
   "id": "260efa24-9e71-4693-b201-679cfe23baf3",
   "metadata": {},
   "source": [
    "Object datatype represents those are categorical variables"
   ]
  },
  {
   "cell_type": "code",
   "execution_count": 7,
   "id": "ee2f2454-f365-47bc-81b5-a629326dde26",
   "metadata": {
    "ExecuteTime": {
     "end_time": "2021-12-27T22:54:27.481556Z",
     "start_time": "2021-12-27T22:54:27.476381Z"
    }
   },
   "outputs": [
    {
     "data": {
      "text/plain": [
       "((614, 13), (367, 12))"
      ]
     },
     "execution_count": 7,
     "metadata": {},
     "output_type": "execute_result"
    }
   ],
   "source": [
    "train.shape, test.shape"
   ]
  },
  {
   "cell_type": "markdown",
   "id": "53516602-f01a-4c3b-af33-d44bb2de1322",
   "metadata": {},
   "source": [
    "We can look at summary of numerical fields by using describe() function"
   ]
  },
  {
   "cell_type": "code",
   "execution_count": 8,
   "id": "4c4d0813-1d25-411e-b443-33d205eecfee",
   "metadata": {
    "ExecuteTime": {
     "end_time": "2021-12-27T22:54:27.531072Z",
     "start_time": "2021-12-27T22:54:27.486392Z"
    }
   },
   "outputs": [
    {
     "data": {
      "text/html": [
       "<div>\n",
       "<style scoped>\n",
       "    .dataframe tbody tr th:only-of-type {\n",
       "        vertical-align: middle;\n",
       "    }\n",
       "\n",
       "    .dataframe tbody tr th {\n",
       "        vertical-align: top;\n",
       "    }\n",
       "\n",
       "    .dataframe thead th {\n",
       "        text-align: right;\n",
       "    }\n",
       "</style>\n",
       "<table border=\"1\" class=\"dataframe\">\n",
       "  <thead>\n",
       "    <tr style=\"text-align: right;\">\n",
       "      <th></th>\n",
       "      <th>ApplicantIncome</th>\n",
       "      <th>CoapplicantIncome</th>\n",
       "      <th>LoanAmount</th>\n",
       "      <th>Loan_Amount_Term</th>\n",
       "      <th>Credit_History</th>\n",
       "    </tr>\n",
       "  </thead>\n",
       "  <tbody>\n",
       "    <tr>\n",
       "      <th>count</th>\n",
       "      <td>614.000000</td>\n",
       "      <td>614.000000</td>\n",
       "      <td>592.000000</td>\n",
       "      <td>600.00000</td>\n",
       "      <td>564.000000</td>\n",
       "    </tr>\n",
       "    <tr>\n",
       "      <th>mean</th>\n",
       "      <td>5403.459283</td>\n",
       "      <td>1621.245798</td>\n",
       "      <td>146.412162</td>\n",
       "      <td>342.00000</td>\n",
       "      <td>0.842199</td>\n",
       "    </tr>\n",
       "    <tr>\n",
       "      <th>std</th>\n",
       "      <td>6109.041673</td>\n",
       "      <td>2926.248369</td>\n",
       "      <td>85.587325</td>\n",
       "      <td>65.12041</td>\n",
       "      <td>0.364878</td>\n",
       "    </tr>\n",
       "    <tr>\n",
       "      <th>min</th>\n",
       "      <td>150.000000</td>\n",
       "      <td>0.000000</td>\n",
       "      <td>9.000000</td>\n",
       "      <td>12.00000</td>\n",
       "      <td>0.000000</td>\n",
       "    </tr>\n",
       "    <tr>\n",
       "      <th>25%</th>\n",
       "      <td>2877.500000</td>\n",
       "      <td>0.000000</td>\n",
       "      <td>100.000000</td>\n",
       "      <td>360.00000</td>\n",
       "      <td>1.000000</td>\n",
       "    </tr>\n",
       "    <tr>\n",
       "      <th>50%</th>\n",
       "      <td>3812.500000</td>\n",
       "      <td>1188.500000</td>\n",
       "      <td>128.000000</td>\n",
       "      <td>360.00000</td>\n",
       "      <td>1.000000</td>\n",
       "    </tr>\n",
       "    <tr>\n",
       "      <th>75%</th>\n",
       "      <td>5795.000000</td>\n",
       "      <td>2297.250000</td>\n",
       "      <td>168.000000</td>\n",
       "      <td>360.00000</td>\n",
       "      <td>1.000000</td>\n",
       "    </tr>\n",
       "    <tr>\n",
       "      <th>max</th>\n",
       "      <td>81000.000000</td>\n",
       "      <td>41667.000000</td>\n",
       "      <td>700.000000</td>\n",
       "      <td>480.00000</td>\n",
       "      <td>1.000000</td>\n",
       "    </tr>\n",
       "  </tbody>\n",
       "</table>\n",
       "</div>"
      ],
      "text/plain": [
       "       ApplicantIncome  CoapplicantIncome  LoanAmount  Loan_Amount_Term  \\\n",
       "count       614.000000         614.000000  592.000000         600.00000   \n",
       "mean       5403.459283        1621.245798  146.412162         342.00000   \n",
       "std        6109.041673        2926.248369   85.587325          65.12041   \n",
       "min         150.000000           0.000000    9.000000          12.00000   \n",
       "25%        2877.500000           0.000000  100.000000         360.00000   \n",
       "50%        3812.500000        1188.500000  128.000000         360.00000   \n",
       "75%        5795.000000        2297.250000  168.000000         360.00000   \n",
       "max       81000.000000       41667.000000  700.000000         480.00000   \n",
       "\n",
       "       Credit_History  \n",
       "count      564.000000  \n",
       "mean         0.842199  \n",
       "std          0.364878  \n",
       "min          0.000000  \n",
       "25%          1.000000  \n",
       "50%          1.000000  \n",
       "75%          1.000000  \n",
       "max          1.000000  "
      ]
     },
     "execution_count": 8,
     "metadata": {},
     "output_type": "execute_result"
    }
   ],
   "source": [
    "train.describe()"
   ]
  },
  {
   "cell_type": "markdown",
   "id": "0a745f18-2b0e-402f-a941-dd5138d2a737",
   "metadata": {},
   "source": [
    "Here are a few inferences, you can draw by looking at the output of describe() function:\n",
    "\n",
    "1. LoanAmount has (614 – 592) 22 missing values.\n",
    "2. Loan_Amount_Term has (614 – 600) 14 missing values.\n",
    "3. Credit_History has (614 – 564) 50 missing values.\n",
    "4. We can also look that about 84% applicants have a credit_history. Because the mean of Credit_History field is 0.84 (Remember, Credit_History has value 1 for those who have a credit history and 0 otherwise)\n",
    "5. The ApplicantIncome distribution seems to be in line with expectation. Same with CoapplicantIncome\n",
    "\n",
    "Please note that we can get an idea of a possible skew in the data by comparing the mean to the median, i.e. the 50% figure.\n",
    "\n",
    "For the non-numerical values (e.g. Property_Area, Credit_History etc.), we can look at frequency distribution to understand whether they make sense or not. The frequency table can be printed by following command:"
   ]
  },
  {
   "cell_type": "code",
   "execution_count": 9,
   "id": "056128f3-1080-4af6-8dc1-eefcbb764e36",
   "metadata": {
    "ExecuteTime": {
     "end_time": "2021-12-27T22:54:27.541447Z",
     "start_time": "2021-12-27T22:54:27.534627Z"
    }
   },
   "outputs": [
    {
     "data": {
      "text/plain": [
       "Semiurban    233\n",
       "Urban        202\n",
       "Rural        179\n",
       "Name: Property_Area, dtype: int64"
      ]
     },
     "execution_count": 9,
     "metadata": {},
     "output_type": "execute_result"
    }
   ],
   "source": [
    "train['Property_Area'].value_counts()"
   ]
  },
  {
   "cell_type": "markdown",
   "id": "7d281879-91d5-460c-b86e-aa496fbe722a",
   "metadata": {},
   "source": [
    "# Distribution Analysis"
   ]
  },
  {
   "cell_type": "markdown",
   "id": "846712ba-3b0f-45fb-b9e7-5e3647a013fa",
   "metadata": {},
   "source": [
    "Now, Let’s look at the histogram and boxplot of LoanAmount:"
   ]
  },
  {
   "cell_type": "code",
   "execution_count": 10,
   "id": "79df7ac5-7c4d-4531-b1ce-0f9d1e91a751",
   "metadata": {
    "ExecuteTime": {
     "end_time": "2021-12-27T22:54:28.015341Z",
     "start_time": "2021-12-27T22:54:27.545013Z"
    }
   },
   "outputs": [
    {
     "data": {
      "text/plain": [
       "<AxesSubplot:>"
      ]
     },
     "execution_count": 10,
     "metadata": {},
     "output_type": "execute_result"
    },
    {
     "data": {
      "image/png": "[encoded data removed]",
      "text/plain": [
       "<Figure size 432x288 with 1 Axes>"
      ]
     },
     "metadata": {
      "needs_background": "light"
     },
     "output_type": "display_data"
    }
   ],
   "source": [
    "train['LoanAmount'].hist(bins=50)"
   ]
  },
  {
   "cell_type": "code",
   "execution_count": 11,
   "id": "96c9b735-bdd3-4bb1-824b-7f084adb1240",
   "metadata": {
    "ExecuteTime": {
     "end_time": "2021-12-27T22:54:28.168854Z",
     "start_time": "2021-12-27T22:54:28.017143Z"
    }
   },
   "outputs": [
    {
     "data": {
      "text/plain": [
       "<AxesSubplot:>"
      ]
     },
     "execution_count": 11,
     "metadata": {},
     "output_type": "execute_result"
    },
    {
     "data": {
      "image/png": "[encoded data removed]",
      "text/plain": [
       "<Figure size 432x288 with 1 Axes>"
      ]
     },
     "metadata": {
      "needs_background": "light"
     },
     "output_type": "display_data"
    }
   ],
   "source": [
    "train.boxplot(column='LoanAmount')"
   ]
  },
  {
   "cell_type": "markdown",
   "id": "09663af6-2513-4466-88bc-05a2539a2d5f",
   "metadata": {},
   "source": [
    "Again, there are some extreme values. Clearly, both ApplicantIncome and LoanAmount require some amount of data munging. LoanAmount has missing and well as extreme values values, while ApplicantIncome has a few extreme values, which demand deeper understanding. "
   ]
  },
  {
   "cell_type": "code",
   "execution_count": 12,
   "id": "fc8a38a4-aae0-41de-b12d-9bcf3e9398be",
   "metadata": {
    "ExecuteTime": {
     "end_time": "2021-12-27T22:54:28.202735Z",
     "start_time": "2021-12-27T22:54:28.170368Z"
    }
   },
   "outputs": [
    {
     "name": "stdout",
     "output_type": "stream",
     "text": [
      "Frequency Table for Credit History:\n",
      "0.0     89\n",
      "1.0    475\n",
      "Name: Credit_History, dtype: int64\n",
      "\n",
      "Probility of getting loan for each Credit History class:\n",
      "                Loan_Status\n",
      "Credit_History             \n",
      "0.0                0.078652\n",
      "1.0                0.795789\n"
     ]
    }
   ],
   "source": [
    "temp1 = train['Credit_History'].value_counts(ascending=True)\n",
    "temp2 = train.pivot_table(values='Loan_Status',index=['Credit_History'],aggfunc=lambda x: x.map({'Y':1,'N':0}).mean())\n",
    "print ('Frequency Table for Credit History:') \n",
    "print (temp1)\n",
    "\n",
    "print ('\\nProbility of getting loan for each Credit History class:')\n",
    "print (temp2)"
   ]
  },
  {
   "cell_type": "code",
   "execution_count": 13,
   "id": "1d5d9ab4-3944-4108-b3a9-207fb2f73c0e",
   "metadata": {
    "ExecuteTime": {
     "end_time": "2021-12-27T22:54:28.670386Z",
     "start_time": "2021-12-27T22:54:28.207929Z"
    }
   },
   "outputs": [
    {
     "data": {
      "text/plain": [
       "Text(0.5, 1.0, 'Probability of getting loan by credit history')"
      ]
     },
     "execution_count": 13,
     "metadata": {},
     "output_type": "execute_result"
    },
    {
     "data": {
      "image/png": "[encoded data removed]",
      "text/plain": [
       "<Figure size 576x288 with 2 Axes>"
      ]
     },
     "metadata": {
      "needs_background": "light"
     },
     "output_type": "display_data"
    },
    {
     "data": {
      "image/png": "[encoded data removed]",
      "text/plain": [
       "<Figure size 432x288 with 1 Axes>"
      ]
     },
     "metadata": {
      "needs_background": "light"
     },
     "output_type": "display_data"
    }
   ],
   "source": [
    "fig = plt.figure(figsize=(8,4))\n",
    "ax1 = fig.add_subplot(121)\n",
    "ax1.set_xlabel('Credit_History')\n",
    "ax1.set_ylabel('Count of Applicants')\n",
    "ax1.set_title(\"Applicants by Credit_History\")\n",
    "temp1.plot(kind='bar')\n",
    "\n",
    "ax2 = fig.add_subplot(122)\n",
    "temp2.plot(kind = 'bar')\n",
    "ax2.set_xlabel('Credit_History')\n",
    "ax2.set_ylabel('Probability of getting loan')\n",
    "ax2.set_title(\"Probability of getting loan by credit history\")"
   ]
  },
  {
   "cell_type": "markdown",
   "id": "a6f4334c-9172-4b02-bf3c-362cf8bad429",
   "metadata": {},
   "source": [
    "# Univariate Analysis : \n",
    "Analysing each variable individually. For categorical variables, we can use frequency table or bar plots. For numerical variables, we can use probability density plots."
   ]
  },
  {
   "cell_type": "markdown",
   "id": "7732f4bd-645d-471a-a7f2-10979e327653",
   "metadata": {},
   "source": [
    "Categorical Features: Gender, Married, SElf-Employed, Credit History, Loan_Status"
   ]
  },
  {
   "cell_type": "markdown",
   "id": "eba1e457-2b97-4c85-a3cd-71b0095a134d",
   "metadata": {},
   "source": [
    "Ordinal Features: (Order is involved): Dependents, Education, Property_Area"
   ]
  },
  {
   "cell_type": "markdown",
   "id": "5b6a2bec-588e-4c10-a591-94308843419a",
   "metadata": {},
   "source": [
    "Numerical Features: ApplicantIncome, CoapplicantIncome, LoanAmount, Loan_Amount_Term"
   ]
  },
  {
   "cell_type": "markdown",
   "id": "29110b2e-0d87-4b90-886a-714252ed5202",
   "metadata": {},
   "source": [
    "## Target Variable\n",
    "Loan_Status is the categorical variable. Lets see its frequency table, percentage distribution and bar plot."
   ]
  },
  {
   "cell_type": "code",
   "execution_count": 14,
   "id": "22d493a9-ef17-466d-a469-6cdaa3ae5883",
   "metadata": {
    "ExecuteTime": {
     "end_time": "2021-12-27T22:54:28.677993Z",
     "start_time": "2021-12-27T22:54:28.672011Z"
    }
   },
   "outputs": [
    {
     "data": {
      "text/plain": [
       "Y    422\n",
       "N    192\n",
       "Name: Loan_Status, dtype: int64"
      ]
     },
     "execution_count": 14,
     "metadata": {},
     "output_type": "execute_result"
    }
   ],
   "source": [
    "train['Loan_Status'].value_counts()"
   ]
  },
  {
   "cell_type": "code",
   "execution_count": 15,
   "id": "1a0a0716-15ab-408f-8002-0b41f8a8bc34",
   "metadata": {
    "ExecuteTime": {
     "end_time": "2021-12-27T22:54:28.692288Z",
     "start_time": "2021-12-27T22:54:28.679968Z"
    }
   },
   "outputs": [
    {
     "data": {
      "text/plain": [
       "Y    0.687296\n",
       "N    0.312704\n",
       "Name: Loan_Status, dtype: float64"
      ]
     },
     "execution_count": 15,
     "metadata": {},
     "output_type": "execute_result"
    }
   ],
   "source": [
    "train['Loan_Status'].value_counts(normalize='True')"
   ]
  },
  {
   "cell_type": "code",
   "execution_count": 16,
   "id": "5646162c-6368-4f2f-a5c0-4015ffa2be4b",
   "metadata": {
    "ExecuteTime": {
     "end_time": "2021-12-27T22:54:28.845910Z",
     "start_time": "2021-12-27T22:54:28.695800Z"
    }
   },
   "outputs": [
    {
     "data": {
      "text/plain": [
       "<AxesSubplot:>"
      ]
     },
     "execution_count": 16,
     "metadata": {},
     "output_type": "execute_result"
    },
    {
     "data": {
      "image/png": "[encoded data removed]",
      "text/plain": [
       "<Figure size 432x288 with 1 Axes>"
      ]
     },
     "metadata": {
      "needs_background": "light"
     },
     "output_type": "display_data"
    }
   ],
   "source": [
    "train['Loan_Status'].value_counts().plot.bar()"
   ]
  },
  {
   "cell_type": "markdown",
   "id": "9b2342c7-3ff9-4409-81b5-1a628cd01fe2",
   "metadata": {},
   "source": [
    "The loan of around 69% (422) people out of 614 was approved."
   ]
  },
  {
   "cell_type": "markdown",
   "id": "78064415-928d-436a-af48-60b16dae32e9",
   "metadata": {},
   "source": [
    "Let us visualize categorical and ornidal variables:"
   ]
  },
  {
   "cell_type": "markdown",
   "id": "55492a74-a8d2-4a64-ada0-4e9e986c1aa9",
   "metadata": {},
   "source": [
    "## Independent Variable(Categorical)"
   ]
  },
  {
   "cell_type": "code",
   "execution_count": 17,
   "id": "d7beb0ae-ee60-4428-89e7-f5e959068f8d",
   "metadata": {
    "ExecuteTime": {
     "end_time": "2021-12-27T22:54:29.273472Z",
     "start_time": "2021-12-27T22:54:28.847823Z"
    }
   },
   "outputs": [
    {
     "data": {
      "image/png": "[encoded data removed]",
      "text/plain": [
       "<Figure size 1440x720 with 4 Axes>"
      ]
     },
     "metadata": {
      "needs_background": "light"
     },
     "output_type": "display_data"
    }
   ],
   "source": [
    "plt.subplot(221)\n",
    "train['Gender'].value_counts(normalize='True').plot.bar(figsize=(20,10),title=\"Gender\")\n",
    "plt.subplot(222)\n",
    "train['Married'].value_counts(normalize='True').plot.bar(figsize=(20,10),title=\"Married\")\n",
    "plt.subplot(223)\n",
    "train['Self_Employed'].value_counts(normalize='True').plot.bar(figsize=(20,10),title=\"Self_Employed\")\n",
    "plt.subplot(224)\n",
    "train['Credit_History'].value_counts(normalize='True').plot.bar(figsize=(20,10),title=\"Credit_History\")\n",
    "plt.show()"
   ]
  },
  {
   "cell_type": "markdown",
   "id": "fb6d8dc7-4e20-43e6-8fa8-23da64e40475",
   "metadata": {},
   "source": [
    "* 80% apllicants in the dataset are male.\n",
    "* Around 65% of the applicants in the dataset are married.\n",
    "* Around 15% applicants in the dataset are self employed.\n",
    "* Around 85% applicants have repaid their debts."
   ]
  },
  {
   "cell_type": "markdown",
   "id": "06b81d5e-a136-4b60-b6fc-dcaae3631789",
   "metadata": {},
   "source": [
    "## Independent Variable(Ordinal)"
   ]
  },
  {
   "cell_type": "code",
   "execution_count": 18,
   "id": "48d359be-3821-4338-a7c4-5d743d7fb25d",
   "metadata": {
    "ExecuteTime": {
     "end_time": "2021-12-27T22:54:29.654025Z",
     "start_time": "2021-12-27T22:54:29.274911Z"
    }
   },
   "outputs": [
    {
     "data": {
      "image/png": "[encoded data removed]",
      "text/plain": [
       "<Figure size 1728x432 with 3 Axes>"
      ]
     },
     "metadata": {
      "needs_background": "light"
     },
     "output_type": "display_data"
    }
   ],
   "source": [
    "plt.subplot(131)\n",
    "train['Dependents'].value_counts(normalize='True').plot.bar(figsize=(24,6),title=\"Dependents\")\n",
    "plt.subplot(132)\n",
    "train['Education'].value_counts(normalize='True').plot.bar(title=\"Education\")\n",
    "plt.subplot(133)\n",
    "train['Property_Area'].value_counts(normalize='True').plot.bar(title='Property_Area')\n",
    "plt.show()"
   ]
  },
  {
   "cell_type": "markdown",
   "id": "83e91e35-b8a4-4990-9559-755da82bd3cc",
   "metadata": {},
   "source": [
    "Following inferences can be made from the above bar plots:\n",
    "* Most of the applicants don't have any dependents.\n",
    "* Around 80% of the applicants are Graduate.\n",
    "* Most of the applicants are from Semiurban area."
   ]
  },
  {
   "cell_type": "markdown",
   "id": "c67ea84f-5204-44da-9fdf-dd97d3811aae",
   "metadata": {},
   "source": [
    "## Independent Variable(Numerical)"
   ]
  },
  {
   "cell_type": "markdown",
   "id": "ab7891a5-c8b3-48bf-b7c5-e85980ffe9d5",
   "metadata": {},
   "source": [
    "We look at box plots to understand the distributions. Box plot for applicant income can be plotted by:"
   ]
  },
  {
   "cell_type": "code",
   "execution_count": 19,
   "id": "18e4dab1-3672-41fe-a38e-11f1da028f78",
   "metadata": {
    "ExecuteTime": {
     "end_time": "2021-12-27T22:54:29.990216Z",
     "start_time": "2021-12-27T22:54:29.655751Z"
    }
   },
   "outputs": [
    {
     "data": {
      "text/plain": [
       "<AxesSubplot:>"
      ]
     },
     "execution_count": 19,
     "metadata": {},
     "output_type": "execute_result"
    },
    {
     "data": {
      "image/png": "[encoded data removed]",
      "text/plain": [
       "<Figure size 1152x360 with 2 Axes>"
      ]
     },
     "metadata": {
      "needs_background": "light"
     },
     "output_type": "display_data"
    }
   ],
   "source": [
    "plt.figure(1) \n",
    "plt.subplot(121) \n",
    "sns.distplot(train['ApplicantIncome'])\n",
    "plt.subplot(122) \n",
    "train['ApplicantIncome'].plot.box(figsize=(16,5))"
   ]
  },
  {
   "cell_type": "markdown",
   "id": "ec952c61-3002-4b54-a635-32caa7e6c342",
   "metadata": {},
   "source": [
    "This confirms the presence of a lot of outliers/extreme values. This can be attributed to the income disparity in the society. Part of this can be driven by the fact that we are looking at people with different education levels. Let us segregate them by Education:"
   ]
  },
  {
   "cell_type": "code",
   "execution_count": 20,
   "id": "34072e06-76a8-4dd2-9b02-bb01e2c30d28",
   "metadata": {
    "ExecuteTime": {
     "end_time": "2021-12-27T22:54:30.139373Z",
     "start_time": "2021-12-27T22:54:29.991737Z"
    }
   },
   "outputs": [
    {
     "data": {
      "text/plain": [
       "Text(0.5, 0.98, '')"
      ]
     },
     "execution_count": 20,
     "metadata": {},
     "output_type": "execute_result"
    },
    {
     "data": {
      "image/png": "[encoded data removed]",
      "text/plain": [
       "<Figure size 432x288 with 1 Axes>"
      ]
     },
     "metadata": {
      "needs_background": "light"
     },
     "output_type": "display_data"
    }
   ],
   "source": [
    "train.boxplot(column='ApplicantIncome', by = 'Education') \n",
    "plt.suptitle(\"\")"
   ]
  },
  {
   "cell_type": "markdown",
   "id": "f91b390f-d0df-4fad-9f5d-830d13511513",
   "metadata": {},
   "source": [
    "There is no substantial different between the mean income of graduate and non-graduates. But there are a higher number of graduates with very high incomes, which are appearing to be the outliers."
   ]
  },
  {
   "cell_type": "markdown",
   "id": "f896e273-4d94-4dab-8d28-0f110450f687",
   "metadata": {},
   "source": [
    "Let us look at the distribution of the CoApplicant income"
   ]
  },
  {
   "cell_type": "code",
   "execution_count": 21,
   "id": "6c1d34be-ea0a-408c-885e-5bf40cd9f053",
   "metadata": {
    "ExecuteTime": {
     "end_time": "2021-12-27T22:54:30.457334Z",
     "start_time": "2021-12-27T22:54:30.141787Z"
    }
   },
   "outputs": [
    {
     "data": {
      "text/plain": [
       "<AxesSubplot:>"
      ]
     },
     "execution_count": 21,
     "metadata": {},
     "output_type": "execute_result"
    },
    {
     "data": {
      "image/png": "[encoded data removed]",
      "text/plain": [
       "<Figure size 1152x360 with 2 Axes>"
      ]
     },
     "metadata": {
      "needs_background": "light"
     },
     "output_type": "display_data"
    }
   ],
   "source": [
    "plt.figure(1) \n",
    "plt.subplot(121) \n",
    "sns.distplot(train['CoapplicantIncome'])\n",
    "plt.subplot(122) \n",
    "train['CoapplicantIncome'].plot.box(figsize=(16,5))"
   ]
  },
  {
   "cell_type": "markdown",
   "id": "79778ae9-8756-4b62-b17e-94d8516b5b64",
   "metadata": {},
   "source": [
    "Its a similar distribution like that of the applicant income. Majority of coapplicant's income ranges from 0 to 5000.  \n",
    "Its not normally distributed and lot of outliers are there."
   ]
  },
  {
   "cell_type": "markdown",
   "id": "f0c49d4d-7d71-4113-bf23-cdd28ee08eeb",
   "metadata": {},
   "source": [
    "# Bivariate Analysis"
   ]
  },
  {
   "cell_type": "markdown",
   "id": "a7dddea5-5fbe-48d4-bac1-8484eaba042e",
   "metadata": {},
   "source": [
    "We can easily make some intuitive hypothesis to set the ball rolling. The chances of getting a loan will be higher for:\n",
    "\n",
    "* Applicants having a credit history\n",
    "* Applicants who repaid their previous debts\n",
    "* Applicants with higher applicant and co-applicant incomes\n",
    "* Loan approval should also depend on the loan amount. Lower the loan amount higher the chance of approval.\n",
    "* Applicants with higher education level\n",
    "* Properties in urban areas with high growth perspectives"
   ]
  },
  {
   "cell_type": "markdown",
   "id": "9a67ab8f-3377-4471-ac2f-7a70c66495b8",
   "metadata": {},
   "source": [
    "We would like to see how well each feature correlate with Loan Status (Target variable). So, we look at bivariate analysis."
   ]
  },
  {
   "cell_type": "markdown",
   "id": "e9da3670-feb0-4fb3-b3f7-5dc2c6c79196",
   "metadata": {},
   "source": [
    "## Categorical independent variables vs Target variable"
   ]
  },
  {
   "cell_type": "code",
   "execution_count": 22,
   "id": "3ab02500-f02d-4031-ba88-f693104c9ce4",
   "metadata": {
    "ExecuteTime": {
     "end_time": "2021-12-27T22:54:30.719420Z",
     "start_time": "2021-12-27T22:54:30.459263Z"
    }
   },
   "outputs": [
    {
     "data": {
      "text/plain": [
       "<AxesSubplot:xlabel='Gender'>"
      ]
     },
     "execution_count": 22,
     "metadata": {},
     "output_type": "execute_result"
    },
    {
     "data": {
      "image/png": "[encoded data removed]",
      "text/plain": [
       "<Figure size 288x288 with 1 Axes>"
      ]
     },
     "metadata": {
      "needs_background": "light"
     },
     "output_type": "display_data"
    }
   ],
   "source": [
    "Gender = pd.crosstab(train['Gender'], train['Loan_Status'])\n",
    "Gender.div(Gender.sum(1).astype(float),axis=0).plot(kind=\"bar\", stacked=True, figsize=(4,4))"
   ]
  },
  {
   "cell_type": "code",
   "execution_count": 23,
   "id": "a6d6a315-3ffa-4d2e-8a36-f48481046eae",
   "metadata": {
    "ExecuteTime": {
     "end_time": "2021-12-27T22:54:31.255595Z",
     "start_time": "2021-12-27T22:54:30.722008Z"
    }
   },
   "outputs": [
    {
     "data": {
      "text/plain": [
       "<AxesSubplot:xlabel='Self_Employed'>"
      ]
     },
     "execution_count": 23,
     "metadata": {},
     "output_type": "execute_result"
    },
    {
     "data": {
      "image/png": "[encoded data removed]",
      "text/plain": [
       "<Figure size 288x288 with 1 Axes>"
      ]
     },
     "metadata": {
      "needs_background": "light"
     },
     "output_type": "display_data"
    },
    {
     "data": {
      "image/png": "[encoded data removed]",
      "text/plain": [
       "<Figure size 432x288 with 1 Axes>"
      ]
     },
     "metadata": {
      "needs_background": "light"
     },
     "output_type": "display_data"
    },
    {
     "data": {
      "image/png": "[encoded data removed]",
      "text/plain": [
       "<Figure size 288x288 with 1 Axes>"
      ]
     },
     "metadata": {
      "needs_background": "light"
     },
     "output_type": "display_data"
    },
    {
     "data": {
      "image/png": "[encoded data removed]",
      "text/plain": [
       "<Figure size 288x288 with 1 Axes>"
      ]
     },
     "metadata": {
      "needs_background": "light"
     },
     "output_type": "display_data"
    }
   ],
   "source": [
    "Married = pd.crosstab(train['Married'], train['Loan_Status'])\n",
    "Married.div(Married.sum(1).astype(float),axis=0).plot(kind=\"bar\", stacked=True, figsize=(4,4))\n",
    "Dependents = pd.crosstab(train['Dependents'], train['Loan_Status'])\n",
    "Dependents.div(Dependents.sum(1).astype(float),axis=0).plot(kind=\"bar\", stacked=True)\n",
    "Education = pd.crosstab(train['Education'], train['Loan_Status'])\n",
    "Education.div(Education.sum(1).astype(float),axis=0).plot(kind=\"bar\", stacked=True, figsize=(4,4))\n",
    "Self_Employed = pd.crosstab(train['Self_Employed'], train['Loan_Status'])\n",
    "Self_Employed.div(Self_Employed.sum(1).astype(float),axis=0).plot(kind=\"bar\", stacked=True, figsize=(4,4))"
   ]
  },
  {
   "cell_type": "markdown",
   "id": "90372709-c4cd-42ba-beaf-8c5226bc839a",
   "metadata": {},
   "source": [
    "* Proportion of married applicants is higher for the approved loans.\n",
    "* Distribution of applicants with 1 or 3+ dependents is similar across both the categories of Loan_Status.\n",
    "* There is nothing significant we can infer from Self_Employed vs Loan_Status plot."
   ]
  },
  {
   "cell_type": "code",
   "execution_count": 24,
   "id": "0b5b0fa4-d851-4fd1-a532-3835d2157107",
   "metadata": {
    "ExecuteTime": {
     "end_time": "2021-12-27T22:54:31.554958Z",
     "start_time": "2021-12-27T22:54:31.257319Z"
    }
   },
   "outputs": [
    {
     "data": {
      "image/png": "[encoded data removed]",
      "text/plain": [
       "<Figure size 288x288 with 1 Axes>"
      ]
     },
     "metadata": {
      "needs_background": "light"
     },
     "output_type": "display_data"
    },
    {
     "data": {
      "image/png": "[encoded data removed]",
      "text/plain": [
       "<Figure size 432x288 with 1 Axes>"
      ]
     },
     "metadata": {
      "needs_background": "light"
     },
     "output_type": "display_data"
    }
   ],
   "source": [
    "Credit_History=pd.crosstab(train['Credit_History'],train['Loan_Status'])\n",
    "Property_Area=pd.crosstab(train['Property_Area'],train['Loan_Status'])\n",
    "\n",
    "Credit_History.div(Credit_History.sum(1).astype(float), axis=0).plot(kind=\"bar\", stacked=True, figsize=(4,4))\n",
    "plt.show()\n",
    "\n",
    "Property_Area.div(Property_Area.sum(1).astype(float), axis=0).plot(kind=\"bar\", stacked=True)\n",
    "plt.show()"
   ]
  },
  {
   "cell_type": "markdown",
   "id": "4d81f58f-135f-4740-8231-03feb25c2776",
   "metadata": {},
   "source": [
    "* Looks like people with credit history as 1 are more likely to get their loans approved.\n",
    "* Proportion of loans getting approved in semiurban area is higher as compared to that in rural or urban areas."
   ]
  },
  {
   "cell_type": "markdown",
   "id": "af603619-e208-42db-967e-fbb7cfb599d1",
   "metadata": {},
   "source": [
    "We will try to find the mean income of people for which the loan has been approved vs the mean income of people for which the loan has not been approved."
   ]
  },
  {
   "cell_type": "code",
   "execution_count": 25,
   "id": "6f22a289-479e-459a-b260-732f99ca74f2",
   "metadata": {
    "ExecuteTime": {
     "end_time": "2021-12-27T22:54:31.723499Z",
     "start_time": "2021-12-27T22:54:31.557582Z"
    }
   },
   "outputs": [
    {
     "data": {
      "text/plain": [
       "<AxesSubplot:xlabel='Loan_Status'>"
      ]
     },
     "execution_count": 25,
     "metadata": {},
     "output_type": "execute_result"
    },
    {
     "data": {
      "image/png": "[encoded data removed]",
      "text/plain": [
       "<Figure size 432x288 with 1 Axes>"
      ]
     },
     "metadata": {
      "needs_background": "light"
     },
     "output_type": "display_data"
    }
   ],
   "source": [
    "train.groupby('Loan_Status')['ApplicantIncome'].mean().plot.bar()"
   ]
  },
  {
   "cell_type": "markdown",
   "id": "bd75d21b-bb62-4fb4-9feb-791fa0ebc489",
   "metadata": {},
   "source": [
    "We dont see any change in the mean income. So, lets make bins for the applicant income variable based on the values in it and analyze the corresponding loan status for each bin"
   ]
  },
  {
   "cell_type": "code",
   "execution_count": 26,
   "id": "fb553221-f37c-4f09-b6b9-0fc9d2772b8d",
   "metadata": {
    "ExecuteTime": {
     "end_time": "2021-12-27T22:54:31.739577Z",
     "start_time": "2021-12-27T22:54:31.726615Z"
    }
   },
   "outputs": [],
   "source": [
    "bins=[0,2500,4000,6000,81000]\n",
    "group=['Low','Average','High', 'Very high']\n",
    "train['Income_bin']=pd.cut(train['ApplicantIncome'],bins,labels=group)"
   ]
  },
  {
   "cell_type": "code",
   "execution_count": 27,
   "id": "10953878-ece1-4f14-944b-a448ebb30bfc",
   "metadata": {
    "ExecuteTime": {
     "end_time": "2021-12-27T22:54:31.968773Z",
     "start_time": "2021-12-27T22:54:31.747380Z"
    }
   },
   "outputs": [
    {
     "data": {
      "image/png": "[encoded data removed]",
      "text/plain": [
       "<Figure size 432x288 with 1 Axes>"
      ]
     },
     "metadata": {
      "needs_background": "light"
     },
     "output_type": "display_data"
    }
   ],
   "source": [
    "Income_bin=pd.crosstab(train['Income_bin'],train['Loan_Status'])\n",
    "Income_bin.div(Income_bin.sum(1).astype(float), axis=0).plot(kind=\"bar\", stacked=True)\n",
    "plt.xlabel('ApplicantIncome')\n",
    "P = plt.ylabel('Percentage')"
   ]
  },
  {
   "cell_type": "markdown",
   "id": "662f28d7-0935-4433-9080-aa2eec3a6161",
   "metadata": {},
   "source": [
    "It can be inferred that applicant income does not affect the chances of loan approval which contradicts our hypothesis in which we assumed that if the applicant income is high the chances of loan approval will also be high."
   ]
  },
  {
   "cell_type": "code",
   "execution_count": 28,
   "id": "ae948406-999b-43fc-a2c7-99c8a2f51816",
   "metadata": {
    "ExecuteTime": {
     "end_time": "2021-12-27T22:54:31.977648Z",
     "start_time": "2021-12-27T22:54:31.970506Z"
    }
   },
   "outputs": [],
   "source": [
    "bins=[0,1000,3000,42000]\n",
    "group=['Low','Average','High']\n",
    "train['Coapplicant_Income_bin']=pd.cut(train['CoapplicantIncome'],bins,labels=group)"
   ]
  },
  {
   "cell_type": "code",
   "execution_count": 29,
   "id": "683f4489-73c8-42a8-9e55-d269f55a141c",
   "metadata": {
    "ExecuteTime": {
     "end_time": "2021-12-27T22:54:32.133716Z",
     "start_time": "2021-12-27T22:54:31.979280Z"
    }
   },
   "outputs": [
    {
     "data": {
      "image/png": "[encoded data removed]",
      "text/plain": [
       "<Figure size 432x288 with 1 Axes>"
      ]
     },
     "metadata": {
      "needs_background": "light"
     },
     "output_type": "display_data"
    }
   ],
   "source": [
    "Coapplicant_Income_bin=pd.crosstab(train['Coapplicant_Income_bin'],train['Loan_Status'])\n",
    "Coapplicant_Income_bin.div(Coapplicant_Income_bin.sum(1).astype(float), axis=0).plot(kind=\"bar\", stacked=True)\n",
    "plt.xlabel('CoapplicantIncome')\n",
    "P = plt.ylabel('Percentage')"
   ]
  },
  {
   "cell_type": "markdown",
   "id": "bc8a798a-ef6e-4cb6-b6c4-af938cabf033",
   "metadata": {},
   "source": [
    "It seems that if coapplicant's income is less the chances of loan approval are high. But this doesn't look right.The possible reason behind this may be\n",
    "that most of the applicants don't have any coapplicant so coapplicant income is 0 for such applicants and then loan approval is not dependent on it.\n",
    "\n",
    "**Let us look into the combined effect of Applicant and Coapplicant Incomes on the Loan Status.**"
   ]
  },
  {
   "cell_type": "code",
   "execution_count": 30,
   "id": "4d58f11e-278b-4544-82be-81811a8dd4b6",
   "metadata": {
    "ExecuteTime": {
     "end_time": "2021-12-27T22:54:32.139869Z",
     "start_time": "2021-12-27T22:54:32.135687Z"
    }
   },
   "outputs": [],
   "source": [
    "train['Total_Income']=train['ApplicantIncome']+train['CoapplicantIncome']"
   ]
  },
  {
   "cell_type": "code",
   "execution_count": 31,
   "id": "c3831c45-5c64-4bb2-86e2-9d2379f727fe",
   "metadata": {
    "ExecuteTime": {
     "end_time": "2021-12-27T22:54:32.152661Z",
     "start_time": "2021-12-27T22:54:32.142153Z"
    }
   },
   "outputs": [],
   "source": [
    "bins=[0,2500,4000,6000,81000]\n",
    "group=['Low','Average','High', 'Very high']\n",
    "train['Total_Income_bin']=pd.cut(train['Total_Income'],bins,labels=group)"
   ]
  },
  {
   "cell_type": "code",
   "execution_count": 32,
   "id": "1fcd8ce0-7e5f-456e-ae4e-564ae4e0fc44",
   "metadata": {
    "ExecuteTime": {
     "end_time": "2021-12-27T22:54:32.322813Z",
     "start_time": "2021-12-27T22:54:32.154470Z"
    }
   },
   "outputs": [
    {
     "data": {
      "image/png": "[encoded data removed]",
      "text/plain": [
       "<Figure size 432x288 with 1 Axes>"
      ]
     },
     "metadata": {
      "needs_background": "light"
     },
     "output_type": "display_data"
    }
   ],
   "source": [
    "Total_Income_bin=pd.crosstab(train['Total_Income_bin'],train['Loan_Status'])\n",
    "Total_Income_bin.div(Total_Income_bin.sum(1).astype(float), axis=0).plot(kind=\"bar\", stacked=True)\n",
    "plt.xlabel('Total_Income')\n",
    "P = plt.ylabel('Percentage')"
   ]
  },
  {
   "cell_type": "markdown",
   "id": "8d279dc2-869d-4a6c-8aac-829df1dbb311",
   "metadata": {},
   "source": [
    "We can see above that proportion of loans approves for applicants with low Total_Income is very low compared to that of applicants with average, high and very high income."
   ]
  },
  {
   "cell_type": "code",
   "execution_count": 33,
   "id": "4ef21ea3-2c35-4325-ac12-63b8330f83e7",
   "metadata": {
    "ExecuteTime": {
     "end_time": "2021-12-27T22:54:32.331995Z",
     "start_time": "2021-12-27T22:54:32.324688Z"
    }
   },
   "outputs": [],
   "source": [
    "bins=[0,100,200,700]\n",
    "group=['Low','Average','High']\n",
    "train['LoanAmount_bin']=pd.cut(train['LoanAmount'],bins,labels=group)"
   ]
  },
  {
   "cell_type": "code",
   "execution_count": 34,
   "id": "09aeb72c-fc48-4e1d-9782-332f2ade5fc9",
   "metadata": {
    "ExecuteTime": {
     "end_time": "2021-12-27T22:54:32.486106Z",
     "start_time": "2021-12-27T22:54:32.334263Z"
    }
   },
   "outputs": [
    {
     "data": {
      "image/png": "[encoded data removed]",
      "text/plain": [
       "<Figure size 432x288 with 1 Axes>"
      ]
     },
     "metadata": {
      "needs_background": "light"
     },
     "output_type": "display_data"
    }
   ],
   "source": [
    "LoanAmount_bin=pd.crosstab(train['LoanAmount_bin'],train['Loan_Status'])\n",
    "LoanAmount_bin.div(LoanAmount_bin.sum(1).astype(float), axis=0).plot(kind=\"bar\", stacked=True)\n",
    "plt.xlabel('LoanAmount')\n",
    "P = plt.ylabel('Percentage')"
   ]
  },
  {
   "cell_type": "markdown",
   "id": "6e31ef3a-cc7d-443b-b458-fb0792e158c6",
   "metadata": {},
   "source": [
    "We see from above graph, the chances of loan approval is high when the loan amount is less. It supports our hypothesis."
   ]
  },
  {
   "cell_type": "markdown",
   "id": "09b88446-de55-481a-84ef-6194f976635c",
   "metadata": {},
   "source": [
    "Here we drop the bins we created earlier for exploration. We replace 3+ of dependents variable to 3 to make it numerical. We also change Loan_status 'Y' to 1 and 'N' to 0.\n",
    "Reason is few models like logistic regression takes only numeric values as input."
   ]
  },
  {
   "cell_type": "code",
   "execution_count": 35,
   "id": "3f99f8d6-7bca-46c9-93f4-da65baaa742a",
   "metadata": {
    "ExecuteTime": {
     "end_time": "2021-12-27T22:54:32.492237Z",
     "start_time": "2021-12-27T22:54:32.487940Z"
    }
   },
   "outputs": [],
   "source": [
    "train=train.drop(['Income_bin', 'Coapplicant_Income_bin', 'LoanAmount_bin', 'Total_Income_bin', 'Total_Income'], axis=1)"
   ]
  },
  {
   "cell_type": "code",
   "execution_count": 36,
   "id": "5b2a9569-625a-47ac-ad43-9336012d0466",
   "metadata": {
    "ExecuteTime": {
     "end_time": "2021-12-27T22:54:32.505074Z",
     "start_time": "2021-12-27T22:54:32.494155Z"
    }
   },
   "outputs": [],
   "source": [
    "train['Dependents'].replace('3+', 3,inplace=True)\n",
    "test['Dependents'].replace('3+', 3,inplace=True)\n",
    "train['Loan_Status'].replace('N', 0,inplace=True)\n",
    "train['Loan_Status'].replace('Y', 1,inplace=True)"
   ]
  },
  {
   "cell_type": "code",
   "execution_count": 37,
   "id": "34351d44-4ad6-4812-abd9-d5fce016d879",
   "metadata": {
    "ExecuteTime": {
     "end_time": "2021-12-27T22:54:32.749981Z",
     "start_time": "2021-12-27T22:54:32.507599Z"
    }
   },
   "outputs": [
    {
     "data": {
      "image/png": "[encoded data removed]",
      "text/plain": [
       "<Figure size 648x432 with 2 Axes>"
      ]
     },
     "metadata": {
      "needs_background": "light"
     },
     "output_type": "display_data"
    }
   ],
   "source": [
    "matrix = train.corr()\n",
    "f, ax = plt.subplots(figsize=(9, 6))\n",
    "sns.heatmap(matrix, vmax=.8, square=True,cmap=\"BuPu\");"
   ]
  },
  {
   "cell_type": "markdown",
   "id": "b92da3c8-3236-425a-8e12-42010b83d691",
   "metadata": {},
   "source": [
    "We are using heat map to visualize the correlation. The darker color means those variables have more correlation.\n",
    "For eg. There is more correlation between (ApplicantIncome and LoanAmount) and between (Credit_History and Loan_Status).\n",
    "Also CoapplicantIncome has a correlation with LoanAmount."
   ]
  },
  {
   "cell_type": "markdown",
   "id": "dd7269e0-2d7b-4de5-8e6f-184c977ee6b9",
   "metadata": {},
   "source": [
    "# Missing Values and Outliers Treatment"
   ]
  },
  {
   "cell_type": "code",
   "execution_count": 38,
   "id": "5e547d48-006a-4c4f-bbeb-9765436ca553",
   "metadata": {
    "ExecuteTime": {
     "end_time": "2021-12-27T22:54:32.759643Z",
     "start_time": "2021-12-27T22:54:32.751812Z"
    }
   },
   "outputs": [
    {
     "data": {
      "text/plain": [
       "Loan_ID               0\n",
       "Gender               13\n",
       "Married               3\n",
       "Dependents           15\n",
       "Education             0\n",
       "Self_Employed        32\n",
       "ApplicantIncome       0\n",
       "CoapplicantIncome     0\n",
       "LoanAmount           22\n",
       "Loan_Amount_Term     14\n",
       "Credit_History       50\n",
       "Property_Area         0\n",
       "Loan_Status           0\n",
       "dtype: int64"
      ]
     },
     "execution_count": 38,
     "metadata": {},
     "output_type": "execute_result"
    }
   ],
   "source": [
    "train.isnull().sum()"
   ]
  },
  {
   "cell_type": "markdown",
   "id": "089e9408-21a6-4997-85f8-395f2eaa4b93",
   "metadata": {},
   "source": [
    "To fill missing values we consider below methods:\n",
    "1. For numerical variables: imputation using mean or median\n",
    "2. For categorical variables: imputation using mode"
   ]
  },
  {
   "cell_type": "code",
   "execution_count": 39,
   "id": "9c27ce50-5dac-48a0-a7bb-28db9ba49d58",
   "metadata": {
    "ExecuteTime": {
     "end_time": "2021-12-27T22:54:32.772036Z",
     "start_time": "2021-12-27T22:54:32.762224Z"
    }
   },
   "outputs": [],
   "source": [
    "train['Gender'].fillna(train['Gender'].mode()[0], inplace=True)\n",
    "train['Married'].fillna(train['Married'].mode()[0], inplace=True)\n",
    "train['Dependents'].fillna(train['Dependents'].mode()[0], inplace=True)\n",
    "train['Self_Employed'].fillna(train['Self_Employed'].mode()[0], inplace=True)\n",
    "train['Credit_History'].fillna(train['Credit_History'].mode()[0], inplace=True)"
   ]
  },
  {
   "cell_type": "markdown",
   "id": "8f58bb4f-139e-475b-a8f7-eddd0379e36f",
   "metadata": {},
   "source": [
    "Checking the case of Loan_Amount_Term, to understand how the imputation using mode makes sense. 360 is the most repeated value, so we fill the null values with the same."
   ]
  },
  {
   "cell_type": "code",
   "execution_count": 40,
   "id": "ed4b0a7c-529c-47ce-ab1b-47f1fae74bc6",
   "metadata": {
    "ExecuteTime": {
     "end_time": "2021-12-27T22:54:32.782627Z",
     "start_time": "2021-12-27T22:54:32.775381Z"
    }
   },
   "outputs": [
    {
     "data": {
      "text/plain": [
       "360.0    512\n",
       "180.0     44\n",
       "480.0     15\n",
       "300.0     13\n",
       "240.0      4\n",
       "84.0       4\n",
       "120.0      3\n",
       "60.0       2\n",
       "36.0       2\n",
       "12.0       1\n",
       "Name: Loan_Amount_Term, dtype: int64"
      ]
     },
     "execution_count": 40,
     "metadata": {},
     "output_type": "execute_result"
    }
   ],
   "source": [
    "train['Loan_Amount_Term'].value_counts()"
   ]
  },
  {
   "cell_type": "code",
   "execution_count": 41,
   "id": "f6f46709-0636-4ade-aec7-fcb98964f312",
   "metadata": {
    "ExecuteTime": {
     "end_time": "2021-12-27T22:54:32.793545Z",
     "start_time": "2021-12-27T22:54:32.786997Z"
    }
   },
   "outputs": [],
   "source": [
    "train['Loan_Amount_Term'].fillna(train['Loan_Amount_Term'].mode()[0], inplace=True)"
   ]
  },
  {
   "cell_type": "markdown",
   "id": "f1e6ecd7-07c2-4680-a106-ff24c8babe91",
   "metadata": {},
   "source": [
    "Loan_Amount is a numerical variable, so we can use either mean or median to impute the missing values. But earlier we saw it has outliers so the mean will not be the right approach as it will be affected by the outliers.\n",
    "So, we use median to impute the missing values in Loan_Amount variable."
   ]
  },
  {
   "cell_type": "code",
   "execution_count": 42,
   "id": "29c9a8d4-0540-42b7-965a-fe5ebf0aa1e4",
   "metadata": {
    "ExecuteTime": {
     "end_time": "2021-12-27T22:54:32.807035Z",
     "start_time": "2021-12-27T22:54:32.800384Z"
    }
   },
   "outputs": [],
   "source": [
    "train['LoanAmount'].fillna(train['LoanAmount'].median(), inplace=True)"
   ]
  },
  {
   "cell_type": "code",
   "execution_count": 43,
   "id": "76873309-aa32-43cf-abbb-02fb6b473aee",
   "metadata": {
    "ExecuteTime": {
     "end_time": "2021-12-27T22:54:32.819802Z",
     "start_time": "2021-12-27T22:54:32.811942Z"
    }
   },
   "outputs": [
    {
     "data": {
      "text/plain": [
       "Loan_ID              0\n",
       "Gender               0\n",
       "Married              0\n",
       "Dependents           0\n",
       "Education            0\n",
       "Self_Employed        0\n",
       "ApplicantIncome      0\n",
       "CoapplicantIncome    0\n",
       "LoanAmount           0\n",
       "Loan_Amount_Term     0\n",
       "Credit_History       0\n",
       "Property_Area        0\n",
       "Loan_Status          0\n",
       "dtype: int64"
      ]
     },
     "execution_count": 43,
     "metadata": {},
     "output_type": "execute_result"
    }
   ],
   "source": [
    "train.isnull().sum()"
   ]
  },
  {
   "cell_type": "code",
   "execution_count": 44,
   "id": "6251afc9-e9f7-4819-9e35-be6628fb643c",
   "metadata": {
    "ExecuteTime": {
     "end_time": "2021-12-27T22:54:32.948825Z",
     "start_time": "2021-12-27T22:54:32.823045Z"
    }
   },
   "outputs": [],
   "source": [
    "test['Gender'].fillna(train['Gender'].mode()[0], inplace=True)\n",
    "test['Dependents'].fillna(train['Dependents'].mode()[0], inplace=True)\n",
    "test['Self_Employed'].fillna(train['Self_Employed'].mode()[0], inplace=True)\n",
    "test['Credit_History'].fillna(train['Credit_History'].mode()[0], inplace=True)\n",
    "test['Loan_Amount_Term'].fillna(train['Loan_Amount_Term'].mode()[0], inplace=True)\n",
    "test['LoanAmount'].fillna(train['LoanAmount'].median(), inplace=True)"
   ]
  },
  {
   "cell_type": "markdown",
   "id": "1efa099c-8430-425d-91ac-b86ace8fef6f",
   "metadata": {},
   "source": [
    "Due to the outliers, we see above in point # 2, the graph is right skewed. There is a long tail at the right end. \n",
    "\n",
    "We could remove that by taking the log transformation. So, we get a distribution which look closer to the normal distribution."
   ]
  },
  {
   "cell_type": "code",
   "execution_count": 45,
   "id": "7dca0437-d38c-4d9f-bd75-66988ef48b61",
   "metadata": {
    "ExecuteTime": {
     "end_time": "2021-12-27T22:54:33.121633Z",
     "start_time": "2021-12-27T22:54:32.951025Z"
    }
   },
   "outputs": [
    {
     "data": {
      "image/png": "[encoded data removed]",
      "text/plain": [
       "<Figure size 432x288 with 1 Axes>"
      ]
     },
     "metadata": {
      "needs_background": "light"
     },
     "output_type": "display_data"
    }
   ],
   "source": [
    "train['LoanAmount_log'] = np.log(train['LoanAmount'])\n",
    "train['LoanAmount_log'].hist(bins=20)\n",
    "test['LoanAmount_log'] = np.log(test['LoanAmount'])"
   ]
  },
  {
   "cell_type": "code",
   "execution_count": 46,
   "id": "665cab7f-bb7d-407e-ac0c-4b696c03cd75",
   "metadata": {
    "ExecuteTime": {
     "end_time": "2021-12-27T22:54:33.132686Z",
     "start_time": "2021-12-27T22:54:33.123729Z"
    }
   },
   "outputs": [],
   "source": [
    "train=train.drop('Loan_ID',axis=1)\n",
    "test=test.drop('Loan_ID',axis=1)"
   ]
  },
  {
   "cell_type": "code",
   "execution_count": 47,
   "id": "e696d145-1f64-4e77-b95d-8761341377c2",
   "metadata": {
    "ExecuteTime": {
     "end_time": "2021-12-27T22:54:33.145481Z",
     "start_time": "2021-12-27T22:54:33.135341Z"
    }
   },
   "outputs": [],
   "source": [
    "X = train.drop('Loan_Status',1)\n",
    "y = train.Loan_Status"
   ]
  },
  {
   "cell_type": "code",
   "execution_count": 48,
   "id": "0135af96-d57d-4940-bf1b-019087fc7c42",
   "metadata": {
    "ExecuteTime": {
     "end_time": "2021-12-27T22:54:33.185220Z",
     "start_time": "2021-12-27T22:54:33.148402Z"
    }
   },
   "outputs": [],
   "source": [
    "X=pd.get_dummies(X)\n",
    "train=pd.get_dummies(train)\n",
    "test=pd.get_dummies(test)"
   ]
  },
  {
   "cell_type": "code",
   "execution_count": 49,
   "id": "7c98d49d-61b2-4907-9e2b-045c9d3e2f38",
   "metadata": {
    "ExecuteTime": {
     "end_time": "2021-12-27T22:54:34.756256Z",
     "start_time": "2021-12-27T22:54:33.187862Z"
    }
   },
   "outputs": [],
   "source": [
    "from sklearn.model_selection import train_test_split"
   ]
  },
  {
   "cell_type": "code",
   "execution_count": 50,
   "id": "7a525d6f-ed45-46a8-b707-b6ad4750e00f",
   "metadata": {
    "ExecuteTime": {
     "end_time": "2021-12-27T22:54:34.765531Z",
     "start_time": "2021-12-27T22:54:34.757840Z"
    }
   },
   "outputs": [],
   "source": [
    "x_train, x_cv, y_train, y_cv = train_test_split(X,y, test_size =0.3)"
   ]
  },
  {
   "cell_type": "code",
   "execution_count": 72,
   "id": "4054b065-0800-4908-8fd0-72fe4c38b897",
   "metadata": {
    "ExecuteTime": {
     "end_time": "2021-12-27T23:11:14.211634Z",
     "start_time": "2021-12-27T23:11:13.644584Z"
    }
   },
   "outputs": [],
   "source": [
    "from sklearn.linear_model import LogisticRegression\n",
    "from sklearn.tree import DecisionTreeClassifier\n",
    "from sklearn.metrics import accuracy_score\n",
    "from sklearn.model_selection import cross_val_score"
   ]
  },
  {
   "cell_type": "code",
   "execution_count": 69,
   "id": "f2808f94-e982-4332-acb0-b0e5d899f8a7",
   "metadata": {
    "ExecuteTime": {
     "end_time": "2021-12-27T23:04:36.774565Z",
     "start_time": "2021-12-27T23:04:36.740980Z"
    }
   },
   "outputs": [
    {
     "data": {
      "text/plain": [
       "LogisticRegression()"
      ]
     },
     "execution_count": 69,
     "metadata": {},
     "output_type": "execute_result"
    }
   ],
   "source": [
    "model=LogisticRegression()\n",
    "model.fit(x_train, y_train)"
   ]
  },
  {
   "cell_type": "code",
   "execution_count": 53,
   "id": "e1b83698-ccd4-476e-9d88-45c1ebe002a4",
   "metadata": {
    "ExecuteTime": {
     "end_time": "2021-12-27T22:54:35.325936Z",
     "start_time": "2021-12-27T22:54:35.321256Z"
    }
   },
   "outputs": [],
   "source": [
    "pred_cv = model.predict(x_cv)"
   ]
  },
  {
   "cell_type": "code",
   "execution_count": 54,
   "id": "b3c13d77-a433-4777-a163-cb4bb467afae",
   "metadata": {
    "ExecuteTime": {
     "end_time": "2021-12-27T22:54:35.335243Z",
     "start_time": "2021-12-27T22:54:35.329294Z"
    }
   },
   "outputs": [
    {
     "data": {
      "text/plain": [
       "0.8540540540540541"
      ]
     },
     "execution_count": 54,
     "metadata": {},
     "output_type": "execute_result"
    }
   ],
   "source": [
    "accuracy_score(y_cv,pred_cv)"
   ]
  },
  {
   "cell_type": "code",
   "execution_count": 55,
   "id": "a09e161a-6db2-4e0f-bf0d-50b2e1d5b3d1",
   "metadata": {
    "ExecuteTime": {
     "end_time": "2021-12-27T22:54:35.343235Z",
     "start_time": "2021-12-27T22:54:35.337752Z"
    }
   },
   "outputs": [],
   "source": [
    "pred_test = model.predict(test)"
   ]
  },
  {
   "cell_type": "markdown",
   "id": "f8cddb5f",
   "metadata": {},
   "source": [
    "The cross_val_score calculates the R squared metric for the applied model. R squared error close to 1 implies a better fit and less error."
   ]
  },
  {
   "cell_type": "code",
   "execution_count": 70,
   "id": "3f1345f3",
   "metadata": {
    "ExecuteTime": {
     "end_time": "2021-12-27T23:04:40.843663Z",
     "start_time": "2021-12-27T23:04:40.582059Z"
    }
   },
   "outputs": [
    {
     "data": {
      "text/plain": [
       "0.801306144208983"
      ]
     },
     "execution_count": 70,
     "metadata": {},
     "output_type": "execute_result"
    }
   ],
   "source": [
    "np.mean(cross_val_score(model, X,y, cv=5))"
   ]
  },
  {
   "cell_type": "code",
   "execution_count": 78,
   "id": "4350757d",
   "metadata": {
    "ExecuteTime": {
     "end_time": "2021-12-27T23:15:02.140411Z",
     "start_time": "2021-12-27T23:15:02.100443Z"
    }
   },
   "outputs": [
    {
     "data": {
      "text/plain": [
       "0.8062108489937359"
      ]
     },
     "execution_count": 78,
     "metadata": {},
     "output_type": "execute_result"
    }
   ],
   "source": [
    " np.mean(cross_val_score(DecisionTreeClassifier(criterion=\"gini\",max_depth=2), X,y,cv=5))"
   ]
  },
  {
   "cell_type": "code",
   "execution_count": 57,
   "id": "05e41862-ad22-4462-96f5-997fb7da854a",
   "metadata": {
    "ExecuteTime": {
     "end_time": "2021-12-27T22:54:35.356380Z",
     "start_time": "2021-12-27T22:54:35.351124Z"
    }
   },
   "outputs": [],
   "source": [
    "from sklearn.model_selection import StratifiedKFold"
   ]
  },
  {
   "cell_type": "code",
   "execution_count": 58,
   "id": "34dccf5f-7e14-4f37-b415-ad6ca9a673f6",
   "metadata": {
    "ExecuteTime": {
     "end_time": "2021-12-27T22:54:35.650896Z",
     "start_time": "2021-12-27T22:54:35.362478Z"
    }
   },
   "outputs": [
    {
     "name": "stdout",
     "output_type": "stream",
     "text": [
      "\n",
      "1 of kfold 5\n",
      "accuracy_score 0.8048780487804879\n",
      "\n",
      "2 of kfold 5\n",
      "accuracy_score 0.8373983739837398\n",
      "\n",
      "3 of kfold 5\n",
      "accuracy_score 0.7804878048780488\n",
      "\n",
      "4 of kfold 5\n",
      "accuracy_score 0.7886178861788617\n",
      "\n",
      "5 of kfold 5\n",
      "accuracy_score 0.7950819672131147\n"
     ]
    }
   ],
   "source": [
    "i=1\n",
    "kf = StratifiedKFold(n_splits=5,random_state=1,shuffle=True)\n",
    "for train_index,test_index in kf.split(X,y):\n",
    "     print('\\n{} of kfold {}'.format(i,kf.n_splits))\n",
    "     xtr,xvl = X.loc[train_index],X.loc[test_index]\n",
    "     ytr,yvl = y[train_index],y[test_index]\n",
    "    \n",
    "     model = LogisticRegression(random_state=1)\n",
    "     model.fit(xtr, ytr)\n",
    "     pred_test = model.predict(xvl)\n",
    "     score = accuracy_score(yvl,pred_test)\n",
    "     print('accuracy_score',score)\n",
    "     i+=1\n",
    "pred_test = model.predict(test)\n",
    "pred=model.predict_proba(xvl)[:,1]"
   ]
  },
  {
   "cell_type": "code",
   "execution_count": 59,
   "id": "28c4a133-5ead-4468-859a-6e662015fa95",
   "metadata": {
    "ExecuteTime": {
     "end_time": "2021-12-27T22:54:35.915268Z",
     "start_time": "2021-12-27T22:54:35.652693Z"
    }
   },
   "outputs": [
    {
     "data": {
      "image/png": "[encoded data removed]",
      "text/plain": [
       "<Figure size 864x576 with 1 Axes>"
      ]
     },
     "metadata": {
      "needs_background": "light"
     },
     "output_type": "display_data"
    }
   ],
   "source": [
    "from sklearn import metrics\n",
    "fpr, tpr, _ = metrics.roc_curve(yvl,  pred)\n",
    "auc = metrics.roc_auc_score(yvl, pred)\n",
    "plt.figure(figsize=(12,8))\n",
    "plt.plot(fpr,tpr,label=\"validation, auc=\"+str(auc))\n",
    "plt.xlabel('False Positive Rate')\n",
    "plt.ylabel('True Positive Rate')\n",
    "plt.legend(loc=4)\n",
    "plt.show()"
   ]
  },
  {
   "cell_type": "code",
   "execution_count": null,
   "id": "abc9a925",
   "metadata": {},
   "outputs": [],
   "source": []
  }
 ],
 "metadata": {
  "kernelspec": {
   "display_name": "Python 3 (ipykernel)",
   "language": "python",
   "name": "python3"
  },
  "language_info": {
   "codemirror_mode": {
    "name": "ipython",
    "version": 3
   },
   "file_extension": ".py",
   "mimetype": "text/x-python",
   "name": "python",
   "nbconvert_exporter": "python",
   "pygments_lexer": "ipython3",
   "version": "3.9.5"
  },
  "toc": {
   "base_numbering": 1,
   "nav_menu": {},
   "number_sections": true,
   "sideBar": true,
   "skip_h1_title": false,
   "title_cell": "Table of Contents",
   "title_sidebar": "Contents",
   "toc_cell": false,
   "toc_position": {},
   "toc_section_display": true,
   "toc_window_display": true
  },
  "varInspector": {
   "cols": {
    "lenName": 16,
    "lenType": 16,
    "lenVar": 40
   },
   "kernels_config": {
    "python": {
     "delete_cmd_postfix": "",
     "delete_cmd_prefix": "del ",
     "library": "var_list.py",
     "varRefreshCmd": "print(var_dic_list())"
    },
    "r": {
     "delete_cmd_postfix": ") ",
     "delete_cmd_prefix": "rm(",
     "library": "var_list.r",
     "varRefreshCmd": "cat(var_dic_list()) "
    }
   },
   "types_to_exclude": [
    "module",
    "function",
    "builtin_function_or_method",
    "instance",
    "_Feature"
   ],
   "window_display": false
  }
 },
 "nbformat": 4,
 "nbformat_minor": 5
}
